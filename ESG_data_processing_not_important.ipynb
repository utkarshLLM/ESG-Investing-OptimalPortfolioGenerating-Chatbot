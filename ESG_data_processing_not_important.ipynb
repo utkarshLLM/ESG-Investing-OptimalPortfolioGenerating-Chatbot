{
 "cells": [
  {
   "cell_type": "code",
   "execution_count": 2,
   "id": "bab0e4d9",
   "metadata": {},
   "outputs": [],
   "source": [
    "import pandas as pd"
   ]
  },
  {
   "cell_type": "code",
   "execution_count": 4,
   "id": "86f81d3e",
   "metadata": {},
   "outputs": [],
   "source": [
    "df_2014 = pd.read_excel('ESG Ratings Timeseries Expanded 2014.xlsx')\n",
    "df_2015 = pd.read_excel('ESG Ratings Timeseries Expanded 2015.xlsx')"
   ]
  },
  {
   "cell_type": "code",
   "execution_count": 5,
   "id": "bf693159",
   "metadata": {},
   "outputs": [
    {
     "data": {
      "text/plain": [
       "Index(['ISSUER_NAME', 'ISSUERID', 'ISSUER_TICKER', 'ISSUER_CUSIP',\n",
       "       'ISSUER_SEDOL', 'ISSUER_ISIN', 'ISSUER_CNTRY_DOMICILE', 'AS_OF_DATE',\n",
       "       'IVA_INDUSTRY', 'IVA_RATING_DATE',\n",
       "       ...\n",
       "       'BOARD_PCTL_GLOBAL', 'BOARD_PCTL_HOME', 'CORP_GOVERNANCE_QUARTILE',\n",
       "       'GOVERNANCE_PCTL_GLOBAL', 'GOVERNANCE_PCTL_HOME', 'GM_ HOME_MARKET',\n",
       "       'OWNERSHIP_PCTL_GLOBAL', 'OWNERSHIP_PCTL_HOME', 'PAY_PCTL_GLOBAL',\n",
       "       'PAY_PCTL_HOME'],\n",
       "      dtype='object', length=184)"
      ]
     },
     "execution_count": 5,
     "metadata": {},
     "output_type": "execute_result"
    }
   ],
   "source": [
    "df_2014.columns"
   ]
  },
  {
   "cell_type": "code",
   "execution_count": 6,
   "id": "42e57514",
   "metadata": {},
   "outputs": [
    {
     "data": {
      "text/plain": [
       "Index(['ISSUER_NAME', 'ISSUERID', 'ISSUER_TICKER', 'ISSUER_CUSIP',\n",
       "       'ISSUER_SEDOL', 'ISSUER_ISIN', 'ISSUER_CNTRY_DOMICILE', 'AS_OF_DATE',\n",
       "       'IVA_INDUSTRY', 'IVA_RATING_DATE',\n",
       "       ...\n",
       "       'BOARD_PCTL_GLOBAL', 'BOARD_PCTL_HOME', 'CORP_GOVERNANCE_QUARTILE',\n",
       "       'GOVERNANCE_PCTL_GLOBAL', 'GOVERNANCE_PCTL_HOME', 'GM_ HOME_MARKET',\n",
       "       'OWNERSHIP_PCTL_GLOBAL', 'OWNERSHIP_PCTL_HOME', 'PAY_PCTL_GLOBAL',\n",
       "       'PAY_PCTL_HOME'],\n",
       "      dtype='object', length=184)"
      ]
     },
     "execution_count": 6,
     "metadata": {},
     "output_type": "execute_result"
    }
   ],
   "source": [
    "df_2015.columns"
   ]
  },
  {
   "cell_type": "code",
   "execution_count": 7,
   "id": "6f647d7a",
   "metadata": {},
   "outputs": [
    {
     "data": {
      "text/plain": [
       "array(['SMG', '9506', 'VATN', ..., 'PGH', 'DSG', 'FCA'], dtype=object)"
      ]
     },
     "execution_count": 7,
     "metadata": {},
     "output_type": "execute_result"
    }
   ],
   "source": [
    "df_2014['ISSUER_TICKER'].unique()"
   ]
  },
  {
   "cell_type": "code",
   "execution_count": 8,
   "id": "097b06ec",
   "metadata": {},
   "outputs": [
    {
     "data": {
      "text/plain": [
       "6743"
      ]
     },
     "execution_count": 8,
     "metadata": {},
     "output_type": "execute_result"
    }
   ],
   "source": [
    "len( df_2014['ISSUER_TICKER'].unique() )"
   ]
  },
  {
   "cell_type": "code",
   "execution_count": 9,
   "id": "9748aada",
   "metadata": {},
   "outputs": [
    {
     "data": {
      "text/plain": [
       "117322"
      ]
     },
     "execution_count": 9,
     "metadata": {},
     "output_type": "execute_result"
    }
   ],
   "source": [
    "df_2014.shape[0]"
   ]
  },
  {
   "cell_type": "code",
   "execution_count": 10,
   "id": "658f2615",
   "metadata": {},
   "outputs": [
    {
     "data": {
      "text/plain": [
       "17.399080527954915"
      ]
     },
     "execution_count": 10,
     "metadata": {},
     "output_type": "execute_result"
    }
   ],
   "source": [
    "117322 / 6743"
   ]
  },
  {
   "cell_type": "code",
   "execution_count": 11,
   "id": "32aa2771",
   "metadata": {},
   "outputs": [
    {
     "data": {
      "text/plain": [
       "array([20141001, 20140101, 20140201, 20140401, 20140301, 20140701,\n",
       "       20140806, 20140501, 20140601, 20140901, 20141101, 20141205])"
      ]
     },
     "execution_count": 11,
     "metadata": {},
     "output_type": "execute_result"
    }
   ],
   "source": [
    "df_2014['AS_OF_DATE'].unique()"
   ]
  },
  {
   "cell_type": "code",
   "execution_count": 13,
   "id": "d098007d",
   "metadata": {},
   "outputs": [],
   "source": [
    "import numpy as np"
   ]
  },
  {
   "cell_type": "code",
   "execution_count": 12,
   "id": "0d4efb95",
   "metadata": {},
   "outputs": [],
   "source": [
    "tickers = ['AVP', 'LB', 'JOY', 'UA', 'NOW', 'RDC', 'AES', 'GPS', 'COG', 'NFX', 'SEDG', 'NDSN', 'GPC', 'IR', 'CPT', 'MRK', 'CERN', 'ZION', 'MCHP', 'STI', 'EQIX', 'WTW', 'LIFE', 'MO', 'BXLT', 'IEX', 'PGR', 'CXO', 'STLD', 'VFC', 'SEE', 'ABBV', 'BLL', 'HPQ', 'TDG', 'FRT', 'NE', 'AMGN', 'IP', 'TEL', 'MSCI', 'KMB', 'RCL', 'VRSK', 'WFM', 'SPLS', 'MKTX', 'MSI', 'XLNX', 'EXPE', 'LEN', 'OTIS', 'KEY', 'KMX', 'MGM', 'FBHS', 'MHK', 'TIF', 'TSS', 'MJN', 'POOL', 'HUBB', 'WBA', 'MKC', 'ORCL', 'RVTY', 'APA', 'BTUUQ', 'UNM', 'DVN', 'RSG', 'TER', 'INTU', 'MNK', 'HSIC', 'CTVA', 'PANW', 'GPN', 'HRS', 'HP', 'PHM', 'HCA', 'LRCX', 'UAL', 'HD', 'KSS', 'EBAY', 'MET', 'HON', 'YUM', 'ICE', 'CHD', 'AEP', 'IDXX', 'CFG', 'FDS', 'EIX', 'CDW', 'SPG', 'CLF', 'NWSA', 'FLR', 'MMM', 'TPR', 'CL', 'MON', 'HLT', 'FRC', 'ARE', 'RHT', 'GD', 'F', 'HOG', 'VNT', 'TMUS', 'GWW', 'CTRA', 'PPL', 'PYPL', 'DISH', 'ABMD', 'VICI', 'DLTR', 'REG', 'IQV', 'EA', 'LMT', 'AMT', 'C', 'D', 'FFIV', 'POM', 'TTWO', 'ON', 'VIAC', 'DG', 'NKTR', 'AME', 'LULU', 'KORS', 'HAL', 'NAVI', 'FSLR', 'GME', 'BRCM', 'O', 'TXT', 'STE', 'CB', 'GOOG', 'AON', 'BAC', 'KEYS', 'TYL', 'CNP', 'ZBRA', 'JNJ', 'META', 'BK', 'FLS', 'TSLA', 'UTX', 'MPC', 'PODD', 'PEP', 'OGN', 'PWR', 'VMC', 'WBD', 'VRSN', 'MCO', 'OMC', 'AZO', 'DNR', 'ROL', 'VTR', 'BAX', 'A', 'IGT', 'EOG', 'ES', 'ESS', 'NXPI', 'CMS', 'CAT', 'FIS', 'CPRI', 'BWA', 'GILD', 'CLX', 'RHI', 'APC', 'CRL', 'SIG', 'URI', 'V', 'PM', 'PKI', 'PRGO', 'DRE', 'NVDA', 'XYL', 'RE', 'INCY', 'SE', 'KMI', 'TWC', 'FLT', 'NI', 'DUK', 'UDR', 'EMN', 'DVA', 'FDO', 'BG', 'COF', 'FCX', 'WFC', 'MDT', 'APH', 'TGT', 'URBN', 'CBRE', 'PSA', 'SNI', 'RL', 'EQR', 'ZBH', 'PFE', 'SYY', 'TRV', 'SLG', 'FTV', 'HFC', 'MXIM', 'EVRG', 'BBWI', 'SCG', 'KIM', 'BHF', 'DHR', 'BR', 'EPAM', 'BCR', 'NWL', 'DIS', 'PDCO', 'ENPH', 'WMT', 'GRMN', 'LOW', 'PFG', 'PARA', 'CHRW', 'TDC', 'PLD', 'COP', 'CVX', 'IT', 'EXC', 'ETFC', 'JNPR', 'ACN', 'VNO', 'ARNC', 'TRGP', 'AMAT', 'PBI', 'CCI', 'TMK', 'VAR', 'MTD', 'MRO', 'AEE', 'AAPL', 'ULTA', 'ALGN', 'WIN', 'MOH', 'NKE', 'QCOM', 'SYF', 'CHK', 'FTI', 'DGX', 'CDNS', 'FDX', 'MTB', 'BIO', 'IPG', 'EL', 'BEAM', 'SO', 'DO', 'HOLX', 'TFC', 'HCP', 'AYI', 'SNA', 'IPGP', 'DISCK', 'ODFL', 'HAS', 'TRMB', 'CTL', 'BF.B', 'ALB', 'QRVO', 'DTV', 'GMCR', 'MCD', 'ABT', 'JBHT', 'ESV', 'CTAS', 'CNX', 'KR', 'ETN', 'MAS', 'NLSN', 'XRX', 'GEN', 'K', 'COTY', 'CMCSA', 'EMC', 'FOXA', 'CI', 'INVH', 'UPS', 'NDAQ', 'SRE', 'TWX', 'MOS', 'RMD', 'CMI', 'CCL', 'ED', 'PCG', 'FITB', 'XRAY', 'ALK', 'ALXN', 'INTC', 'UNH', 'BXP', 'RIG', 'DD', 'GS', 'CBS', 'GAS', 'LM', 'TWTR', 'KHC', 'GIS', 'WHR', 'FANG', 'HUM', 'COO', 'CME', 'LHX', 'SIAL', 'CPGX', 'TSN', 'DE', 'NFLX', 'R', 'NBL', 'HSP', 'NTRS', 'SNDK', 'AXP', 'WLTW', 'WM', 'PEG', 'ADT', 'QEP', 'FL', 'HCBK', 'SLB', 'RRC', 'CMG', 'EFX', 'FE', 'LLY', 'DLR', 'LLTC', 'LUV', 'STZ', 'HIG', 'AIG', 'UAA', 'ALL', 'BMS', 'AWK', 'JEC', 'TRIP', 'BHGE', 'FB', 'RJF', 'CCEP', 'MMC', 'VRTX', 'PNW', 'OKE', 'BKR', 'WELL', 'PSX', 'NWS', 'ADSK', 'CEG', 'TAP', 'MA', 'AIZ', 'ALLE', 'AGN', 'KRFT', 'FAST', 'ATVI', 'SNPS', 'AKAM', 'HII', 'KDP', 'ROK', 'PETM', 'HAR', 'SWY', 'CPB', 'BX', 'WEC', 'AMCR', 'PAYC', 'AN', 'EMR', 'HRL', 'MNST', 'TJX', 'J', 'TGNA', 'ETR', 'BIIB', 'UBER', 'COV', 'CCE', 'CFN', 'PNR', 'XEL', 'WMB', 'PBCT', 'BBBY', 'GLW', 'RTX', 'LSI', 'EXPD', 'CE', 'WYNN', 'PCAR', 'THC', 'BRO', 'JWN', 'LEG', 'EVHC', 'CTXS', 'CVC', 'PKG', 'ABNB', 'ESRX', 'AVY', 'CINF', 'TT', 'GT', 'FTR', 'ATI', 'KLAC', 'BSX', 'COR', 'XOM', 'NOV', 'NVR', 'FICO', 'L', 'LW', 'ECL', 'DOW', 'PLL', 'LDOS', 'SYMC', 'FMC', 'WPX', 'LO', 'WST', 'DTE', 'RAI', 'CVS', 'ILMN', 'VLO', 'ADP', 'UNP', 'BA', 'ANTM', 'WAB', 'AVB', 'DNB', 'JKHY', 'HWM', 'TSCO', 'ARG', 'WU', 'TXN', 'T', 'PH', 'PRU', 'ISRG', 'NTAP', 'SWK', 'BMY', 'CMA', 'ITW', 'ANDV', 'MAA', 'HPE', 'SRCL', 'PX', 'LYB', 'SWKS', 'M', 'SCHW', 'CAG', 'XL', 'ELV', 'PEAK', 'ADI', 'LLL', 'VLTO', 'APD', 'GL', 'STT', 'RF', 'MYL', 'TECH', 'WRK', 'ORLY', 'TMO', 'AMG', 'CELG', 'CAM', 'MAT', 'FOX', 'WRB', 'LYV', 'FI', 'LKQ', 'CDAY', 'MTCH', 'UHS', 'AMZN', 'MCK', 'EXR', 'PPG', 'GM', 'OXY', 'TFX', 'CSX', 'SBUX', 'FOSL', 'PENN', 'ADM', 'PCP', 'MDLZ', 'ENDP', 'DPZ', 'WAT', 'ATO', 'VTRS', 'PVH', 'SJM', 'AMD', 'REGN', 'WCG', 'BALL', 'MRNA', 'HBI', 'FTNT', 'DXC', 'PXD', 'DXCM', 'CBOE', 'WYND', 'CAH', 'IVZ', 'HOT', 'CF', 'JBL', 'DWDP', 'CTLT', 'FLIR', 'SBNY', 'IRM', 'NSC', 'NBR', 'ALTR', 'GNW', 'CA', 'CSGP', 'LIN', 'NLOK', 'SLM', 'STJ', 'KSU', 'HST', 'ETSY', 'MAR', 'PCL', 'LNC', 'LH', 'PNC', 'NRG', 'MLM', 'LVLT', 'ABC', 'AOS', 'ZTS', 'DHI', 'AVGO', 'CHTR', 'AXON', 'BBY', 'SWN', 'AJG', 'TDY', 'APTV', 'NOC', 'WY', 'AAL', 'FCPT', 'JPM', 'VZ', 'EG', 'LUMN', 'PG', 'IFF', 'EQT', 'ADBE', 'AMP', 'BLK', 'WDC', 'NUE', 'INFO', 'RTN', 'ADS', 'SIVB', 'CTSH', 'XEC', 'LVS', 'SBAC', 'NCLH', 'EW', 'BDX', 'MU', 'AABA', 'SPGI', 'ANET', 'HBAN', 'SYK', 'GNRC', 'IBM', 'CARR', 'OI', 'CSCO', 'NEE', 'MAC', 'GE', 'TE', 'JCI', 'ANSS', 'MPWR', 'KO', 'SHW', 'CNC', 'DFS', 'ROST', 'JEF', 'NEM', 'USB', 'MUR', 'DISCA', 'HRB', 'FISV', 'GHC', 'TROW', 'AIV', 'DAL', 'CPRT', 'LNT', 'CSRA', 'HES', 'HSY', 'CRM', 'BLDR', 'MSFT', 'CMCSK', 'BBT', 'BEN', 'DRI', 'GEHC', 'BRK.B', 'X', 'PTC', 'TEG', 'FRX', 'ROP', 'PAYX', 'ACGL', 'AAP', 'AFL', 'GOOGL', 'BKNG', 'MS', 'VIAB', 'KVUE', 'STX', 'COL', 'DOV', 'MWV', 'GGP', 'CZR', 'AET', 'COST']"
   ]
  },
  {
   "cell_type": "code",
   "execution_count": 14,
   "id": "a12083a5",
   "metadata": {},
   "outputs": [],
   "source": [
    "tickers_2014 = np.array(df_2014['ISSUER_TICKER'].unique())\n",
    "tickers = np.array(tickers)"
   ]
  },
  {
   "cell_type": "code",
   "execution_count": 18,
   "id": "1b1a0b7d",
   "metadata": {},
   "outputs": [
    {
     "name": "stderr",
     "output_type": "stream",
     "text": [
      "/var/folders/g1/mwvmvwd500q1llzmnkpcvpnc0000gn/T/ipykernel_34171/4000698353.py:1: FutureWarning: elementwise comparison failed; returning scalar instead, but in the future will perform elementwise comparison\n",
      "  tickers == tickers_2014\n"
     ]
    },
    {
     "data": {
      "text/plain": [
       "False"
      ]
     },
     "execution_count": 18,
     "metadata": {},
     "output_type": "execute_result"
    }
   ],
   "source": [
    "tickers == tickers_2014"
   ]
  },
  {
   "cell_type": "code",
   "execution_count": 17,
   "id": "a8dba779",
   "metadata": {},
   "outputs": [
    {
     "data": {
      "text/plain": [
       "numpy.ndarray"
      ]
     },
     "execution_count": 17,
     "metadata": {},
     "output_type": "execute_result"
    }
   ],
   "source": [
    "type(tickers_2014)"
   ]
  },
  {
   "cell_type": "code",
   "execution_count": 19,
   "id": "32dc219c",
   "metadata": {},
   "outputs": [
    {
     "data": {
      "text/plain": [
       "False"
      ]
     },
     "execution_count": 19,
     "metadata": {},
     "output_type": "execute_result"
    }
   ],
   "source": [
    "np.all(np.isin(tickers, tickers_2014))"
   ]
  },
  {
   "cell_type": "code",
   "execution_count": 21,
   "id": "509accac",
   "metadata": {},
   "outputs": [
    {
     "data": {
      "text/plain": [
       "array(['SMG', '9506', 'VATN', ..., 'PGH', 'DSG', 'FCA'], dtype=object)"
      ]
     },
     "execution_count": 21,
     "metadata": {},
     "output_type": "execute_result"
    }
   ],
   "source": [
    "tickers_2014"
   ]
  },
  {
   "cell_type": "code",
   "execution_count": 20,
   "id": "dfb90956",
   "metadata": {},
   "outputs": [
    {
     "data": {
      "text/plain": [
       "array(['AVP', 'LB', 'JOY', 'UA', 'NOW', 'RDC', 'AES', 'GPS', 'COG', 'NFX',\n",
       "       'SEDG', 'NDSN', 'GPC', 'IR', 'CPT', 'MRK', 'CERN', 'ZION', 'MCHP',\n",
       "       'STI', 'EQIX', 'WTW', 'LIFE', 'MO', 'BXLT', 'IEX', 'PGR', 'CXO',\n",
       "       'STLD', 'VFC', 'SEE', 'ABBV', 'BLL', 'HPQ', 'TDG', 'FRT', 'NE',\n",
       "       'AMGN', 'IP', 'TEL', 'MSCI', 'KMB', 'RCL', 'VRSK', 'WFM', 'SPLS',\n",
       "       'MKTX', 'MSI', 'XLNX', 'EXPE', 'LEN', 'OTIS', 'KEY', 'KMX', 'MGM',\n",
       "       'FBHS', 'MHK', 'TIF', 'TSS', 'MJN', 'POOL', 'HUBB', 'WBA', 'MKC',\n",
       "       'ORCL', 'RVTY', 'APA', 'BTUUQ', 'UNM', 'DVN', 'RSG', 'TER', 'INTU',\n",
       "       'MNK', 'HSIC', 'CTVA', 'PANW', 'GPN', 'HRS', 'HP', 'PHM', 'HCA',\n",
       "       'LRCX', 'UAL', 'HD', 'KSS', 'EBAY', 'MET', 'HON', 'YUM', 'ICE',\n",
       "       'CHD', 'AEP', 'IDXX', 'CFG', 'FDS', 'EIX', 'CDW', 'SPG', 'CLF',\n",
       "       'NWSA', 'FLR', 'MMM', 'TPR', 'CL', 'MON', 'HLT', 'FRC', 'ARE',\n",
       "       'RHT', 'GD', 'F', 'HOG', 'VNT', 'TMUS', 'GWW', 'CTRA', 'PPL',\n",
       "       'PYPL', 'DISH', 'ABMD', 'VICI', 'DLTR', 'REG', 'IQV', 'EA', 'LMT',\n",
       "       'AMT', 'C', 'D', 'FFIV', 'POM', 'TTWO', 'ON', 'VIAC', 'DG', 'NKTR',\n",
       "       'AME', 'LULU', 'KORS', 'HAL', 'NAVI', 'FSLR', 'GME', 'BRCM', 'O',\n",
       "       'TXT', 'STE', 'CB', 'GOOG', 'AON', 'BAC', 'KEYS', 'TYL', 'CNP',\n",
       "       'ZBRA', 'JNJ', 'META', 'BK', 'FLS', 'TSLA', 'UTX', 'MPC', 'PODD',\n",
       "       'PEP', 'OGN', 'PWR', 'VMC', 'WBD', 'VRSN', 'MCO', 'OMC', 'AZO',\n",
       "       'DNR', 'ROL', 'VTR', 'BAX', 'A', 'IGT', 'EOG', 'ES', 'ESS', 'NXPI',\n",
       "       'CMS', 'CAT', 'FIS', 'CPRI', 'BWA', 'GILD', 'CLX', 'RHI', 'APC',\n",
       "       'CRL', 'SIG', 'URI', 'V', 'PM', 'PKI', 'PRGO', 'DRE', 'NVDA',\n",
       "       'XYL', 'RE', 'INCY', 'SE', 'KMI', 'TWC', 'FLT', 'NI', 'DUK', 'UDR',\n",
       "       'EMN', 'DVA', 'FDO', 'BG', 'COF', 'FCX', 'WFC', 'MDT', 'APH',\n",
       "       'TGT', 'URBN', 'CBRE', 'PSA', 'SNI', 'RL', 'EQR', 'ZBH', 'PFE',\n",
       "       'SYY', 'TRV', 'SLG', 'FTV', 'HFC', 'MXIM', 'EVRG', 'BBWI', 'SCG',\n",
       "       'KIM', 'BHF', 'DHR', 'BR', 'EPAM', 'BCR', 'NWL', 'DIS', 'PDCO',\n",
       "       'ENPH', 'WMT', 'GRMN', 'LOW', 'PFG', 'PARA', 'CHRW', 'TDC', 'PLD',\n",
       "       'COP', 'CVX', 'IT', 'EXC', 'ETFC', 'JNPR', 'ACN', 'VNO', 'ARNC',\n",
       "       'TRGP', 'AMAT', 'PBI', 'CCI', 'TMK', 'VAR', 'MTD', 'MRO', 'AEE',\n",
       "       'AAPL', 'ULTA', 'ALGN', 'WIN', 'MOH', 'NKE', 'QCOM', 'SYF', 'CHK',\n",
       "       'FTI', 'DGX', 'CDNS', 'FDX', 'MTB', 'BIO', 'IPG', 'EL', 'BEAM',\n",
       "       'SO', 'DO', 'HOLX', 'TFC', 'HCP', 'AYI', 'SNA', 'IPGP', 'DISCK',\n",
       "       'ODFL', 'HAS', 'TRMB', 'CTL', 'BF.B', 'ALB', 'QRVO', 'DTV', 'GMCR',\n",
       "       'MCD', 'ABT', 'JBHT', 'ESV', 'CTAS', 'CNX', 'KR', 'ETN', 'MAS',\n",
       "       'NLSN', 'XRX', 'GEN', 'K', 'COTY', 'CMCSA', 'EMC', 'FOXA', 'CI',\n",
       "       'INVH', 'UPS', 'NDAQ', 'SRE', 'TWX', 'MOS', 'RMD', 'CMI', 'CCL',\n",
       "       'ED', 'PCG', 'FITB', 'XRAY', 'ALK', 'ALXN', 'INTC', 'UNH', 'BXP',\n",
       "       'RIG', 'DD', 'GS', 'CBS', 'GAS', 'LM', 'TWTR', 'KHC', 'GIS', 'WHR',\n",
       "       'FANG', 'HUM', 'COO', 'CME', 'LHX', 'SIAL', 'CPGX', 'TSN', 'DE',\n",
       "       'NFLX', 'R', 'NBL', 'HSP', 'NTRS', 'SNDK', 'AXP', 'WLTW', 'WM',\n",
       "       'PEG', 'ADT', 'QEP', 'FL', 'HCBK', 'SLB', 'RRC', 'CMG', 'EFX',\n",
       "       'FE', 'LLY', 'DLR', 'LLTC', 'LUV', 'STZ', 'HIG', 'AIG', 'UAA',\n",
       "       'ALL', 'BMS', 'AWK', 'JEC', 'TRIP', 'BHGE', 'FB', 'RJF', 'CCEP',\n",
       "       'MMC', 'VRTX', 'PNW', 'OKE', 'BKR', 'WELL', 'PSX', 'NWS', 'ADSK',\n",
       "       'CEG', 'TAP', 'MA', 'AIZ', 'ALLE', 'AGN', 'KRFT', 'FAST', 'ATVI',\n",
       "       'SNPS', 'AKAM', 'HII', 'KDP', 'ROK', 'PETM', 'HAR', 'SWY', 'CPB',\n",
       "       'BX', 'WEC', 'AMCR', 'PAYC', 'AN', 'EMR', 'HRL', 'MNST', 'TJX',\n",
       "       'J', 'TGNA', 'ETR', 'BIIB', 'UBER', 'COV', 'CCE', 'CFN', 'PNR',\n",
       "       'XEL', 'WMB', 'PBCT', 'BBBY', 'GLW', 'RTX', 'LSI', 'EXPD', 'CE',\n",
       "       'WYNN', 'PCAR', 'THC', 'BRO', 'JWN', 'LEG', 'EVHC', 'CTXS', 'CVC',\n",
       "       'PKG', 'ABNB', 'ESRX', 'AVY', 'CINF', 'TT', 'GT', 'FTR', 'ATI',\n",
       "       'KLAC', 'BSX', 'COR', 'XOM', 'NOV', 'NVR', 'FICO', 'L', 'LW',\n",
       "       'ECL', 'DOW', 'PLL', 'LDOS', 'SYMC', 'FMC', 'WPX', 'LO', 'WST',\n",
       "       'DTE', 'RAI', 'CVS', 'ILMN', 'VLO', 'ADP', 'UNP', 'BA', 'ANTM',\n",
       "       'WAB', 'AVB', 'DNB', 'JKHY', 'HWM', 'TSCO', 'ARG', 'WU', 'TXN',\n",
       "       'T', 'PH', 'PRU', 'ISRG', 'NTAP', 'SWK', 'BMY', 'CMA', 'ITW',\n",
       "       'ANDV', 'MAA', 'HPE', 'SRCL', 'PX', 'LYB', 'SWKS', 'M', 'SCHW',\n",
       "       'CAG', 'XL', 'ELV', 'PEAK', 'ADI', 'LLL', 'VLTO', 'APD', 'GL',\n",
       "       'STT', 'RF', 'MYL', 'TECH', 'WRK', 'ORLY', 'TMO', 'AMG', 'CELG',\n",
       "       'CAM', 'MAT', 'FOX', 'WRB', 'LYV', 'FI', 'LKQ', 'CDAY', 'MTCH',\n",
       "       'UHS', 'AMZN', 'MCK', 'EXR', 'PPG', 'GM', 'OXY', 'TFX', 'CSX',\n",
       "       'SBUX', 'FOSL', 'PENN', 'ADM', 'PCP', 'MDLZ', 'ENDP', 'DPZ', 'WAT',\n",
       "       'ATO', 'VTRS', 'PVH', 'SJM', 'AMD', 'REGN', 'WCG', 'BALL', 'MRNA',\n",
       "       'HBI', 'FTNT', 'DXC', 'PXD', 'DXCM', 'CBOE', 'WYND', 'CAH', 'IVZ',\n",
       "       'HOT', 'CF', 'JBL', 'DWDP', 'CTLT', 'FLIR', 'SBNY', 'IRM', 'NSC',\n",
       "       'NBR', 'ALTR', 'GNW', 'CA', 'CSGP', 'LIN', 'NLOK', 'SLM', 'STJ',\n",
       "       'KSU', 'HST', 'ETSY', 'MAR', 'PCL', 'LNC', 'LH', 'PNC', 'NRG',\n",
       "       'MLM', 'LVLT', 'ABC', 'AOS', 'ZTS', 'DHI', 'AVGO', 'CHTR', 'AXON',\n",
       "       'BBY', 'SWN', 'AJG', 'TDY', 'APTV', 'NOC', 'WY', 'AAL', 'FCPT',\n",
       "       'JPM', 'VZ', 'EG', 'LUMN', 'PG', 'IFF', 'EQT', 'ADBE', 'AMP',\n",
       "       'BLK', 'WDC', 'NUE', 'INFO', 'RTN', 'ADS', 'SIVB', 'CTSH', 'XEC',\n",
       "       'LVS', 'SBAC', 'NCLH', 'EW', 'BDX', 'MU', 'AABA', 'SPGI', 'ANET',\n",
       "       'HBAN', 'SYK', 'GNRC', 'IBM', 'CARR', 'OI', 'CSCO', 'NEE', 'MAC',\n",
       "       'GE', 'TE', 'JCI', 'ANSS', 'MPWR', 'KO', 'SHW', 'CNC', 'DFS',\n",
       "       'ROST', 'JEF', 'NEM', 'USB', 'MUR', 'DISCA', 'HRB', 'FISV', 'GHC',\n",
       "       'TROW', 'AIV', 'DAL', 'CPRT', 'LNT', 'CSRA', 'HES', 'HSY', 'CRM',\n",
       "       'BLDR', 'MSFT', 'CMCSK', 'BBT', 'BEN', 'DRI', 'GEHC', 'BRK.B', 'X',\n",
       "       'PTC', 'TEG', 'FRX', 'ROP', 'PAYX', 'ACGL', 'AAP', 'AFL', 'GOOGL',\n",
       "       'BKNG', 'MS', 'VIAB', 'KVUE', 'STX', 'COL', 'DOV', 'MWV', 'GGP',\n",
       "       'CZR', 'AET', 'COST'], dtype='<U5')"
      ]
     },
     "execution_count": 20,
     "metadata": {},
     "output_type": "execute_result"
    }
   ],
   "source": [
    "tickers"
   ]
  },
  {
   "cell_type": "code",
   "execution_count": 28,
   "id": "c686670c",
   "metadata": {},
   "outputs": [
    {
     "data": {
      "text/plain": [
       "634"
      ]
     },
     "execution_count": 28,
     "metadata": {},
     "output_type": "execute_result"
    }
   ],
   "source": [
    "len( np.intersect1d(tickers, tickers_2014) )"
   ]
  },
  {
   "cell_type": "code",
   "execution_count": 26,
   "id": "003be7a6",
   "metadata": {},
   "outputs": [],
   "source": [
    "tickers_2014 = tickers_2014.astype(str)"
   ]
  },
  {
   "cell_type": "code",
   "execution_count": null,
   "id": "a862c923",
   "metadata": {},
   "outputs": [],
   "source": [
    "# Data is monthly"
   ]
  }
 ],
 "metadata": {
  "kernelspec": {
   "display_name": "Python 3 (ipykernel)",
   "language": "python",
   "name": "python3"
  },
  "language_info": {
   "codemirror_mode": {
    "name": "ipython",
    "version": 3
   },
   "file_extension": ".py",
   "mimetype": "text/x-python",
   "name": "python",
   "nbconvert_exporter": "python",
   "pygments_lexer": "ipython3",
   "version": "3.11.4"
  }
 },
 "nbformat": 4,
 "nbformat_minor": 5
}
