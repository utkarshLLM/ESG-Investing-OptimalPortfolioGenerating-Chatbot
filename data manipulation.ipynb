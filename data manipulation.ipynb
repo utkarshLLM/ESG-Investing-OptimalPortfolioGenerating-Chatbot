{
 "cells": [
  {
   "cell_type": "code",
   "execution_count": 6,
   "id": "1b350bbd",
   "metadata": {},
   "outputs": [],
   "source": [
    "import pandas as pd"
   ]
  },
  {
   "cell_type": "code",
   "execution_count": 7,
   "id": "a94be87f",
   "metadata": {},
   "outputs": [],
   "source": [
    "xl = pd.ExcelFile('22 stocks_ESG.xlsx')\n"
   ]
  },
  {
   "cell_type": "code",
   "execution_count": 8,
   "id": "8fec04ca",
   "metadata": {},
   "outputs": [
    {
     "data": {
      "text/plain": [
       "['NVDA ESG',\n",
       " 'Sheet2',\n",
       " 'IPG',\n",
       " 'CMI',\n",
       " 'MRNA',\n",
       " 'CRM',\n",
       " 'EBAY',\n",
       " 'WMB',\n",
       " 'LVS',\n",
       " 'CVS',\n",
       " 'ADSK',\n",
       " 'PEAK',\n",
       " 'ADBE',\n",
       " 'J US',\n",
       " 'REGN',\n",
       " 'LMT',\n",
       " 'CI',\n",
       " 'UNH',\n",
       " 'RSG',\n",
       " 'GILD',\n",
       " 'YUM',\n",
       " 'DOW',\n",
       " 'SPGI']"
      ]
     },
     "execution_count": 8,
     "metadata": {},
     "output_type": "execute_result"
    }
   ],
   "source": [
    "xl.sheet_names"
   ]
  },
  {
   "cell_type": "code",
   "execution_count": 9,
   "id": "bb7ced2e",
   "metadata": {},
   "outputs": [],
   "source": [
    "d = {}\n",
    "for asset in xl.sheet_names:\n",
    "    d[asset] = ''"
   ]
  },
  {
   "cell_type": "code",
   "execution_count": 10,
   "id": "c3f94474",
   "metadata": {},
   "outputs": [],
   "source": [
    "df = pd.read_excel('10_stocks_prices.xlsx', sheet_name='Asset_Return_Data')"
   ]
  },
  {
   "cell_type": "code",
   "execution_count": 11,
   "id": "31136049",
   "metadata": {},
   "outputs": [
    {
     "data": {
      "text/html": [
       "<div>\n",
       "<style scoped>\n",
       "    .dataframe tbody tr th:only-of-type {\n",
       "        vertical-align: middle;\n",
       "    }\n",
       "\n",
       "    .dataframe tbody tr th {\n",
       "        vertical-align: top;\n",
       "    }\n",
       "\n",
       "    .dataframe thead th {\n",
       "        text-align: right;\n",
       "    }\n",
       "</style>\n",
       "<table border=\"1\" class=\"dataframe\">\n",
       "  <thead>\n",
       "    <tr style=\"text-align: right;\">\n",
       "      <th></th>\n",
       "      <th>Dates</th>\n",
       "      <th>NEM US Equity</th>\n",
       "      <th>HAL US Equity</th>\n",
       "      <th>ABBV US Equity</th>\n",
       "      <th>AAPL US Equity</th>\n",
       "      <th>ABT US Equity</th>\n",
       "    </tr>\n",
       "  </thead>\n",
       "  <tbody>\n",
       "    <tr>\n",
       "      <th>0</th>\n",
       "      <td>2016-09-13</td>\n",
       "      <td>39.02</td>\n",
       "      <td>41.11</td>\n",
       "      <td>63.34</td>\n",
       "      <td>26.988</td>\n",
       "      <td>40.64</td>\n",
       "    </tr>\n",
       "    <tr>\n",
       "      <th>1</th>\n",
       "      <td>2016-09-14</td>\n",
       "      <td>38.60</td>\n",
       "      <td>41.26</td>\n",
       "      <td>63.34</td>\n",
       "      <td>27.943</td>\n",
       "      <td>40.81</td>\n",
       "    </tr>\n",
       "    <tr>\n",
       "      <th>2</th>\n",
       "      <td>2016-09-15</td>\n",
       "      <td>39.20</td>\n",
       "      <td>41.77</td>\n",
       "      <td>63.35</td>\n",
       "      <td>28.893</td>\n",
       "      <td>41.12</td>\n",
       "    </tr>\n",
       "    <tr>\n",
       "      <th>3</th>\n",
       "      <td>2016-09-16</td>\n",
       "      <td>38.26</td>\n",
       "      <td>41.04</td>\n",
       "      <td>63.27</td>\n",
       "      <td>28.730</td>\n",
       "      <td>41.87</td>\n",
       "    </tr>\n",
       "    <tr>\n",
       "      <th>4</th>\n",
       "      <td>2016-09-19</td>\n",
       "      <td>38.43</td>\n",
       "      <td>41.28</td>\n",
       "      <td>62.91</td>\n",
       "      <td>28.395</td>\n",
       "      <td>41.68</td>\n",
       "    </tr>\n",
       "    <tr>\n",
       "      <th>...</th>\n",
       "      <td>...</td>\n",
       "      <td>...</td>\n",
       "      <td>...</td>\n",
       "      <td>...</td>\n",
       "      <td>...</td>\n",
       "      <td>...</td>\n",
       "    </tr>\n",
       "    <tr>\n",
       "      <th>1865</th>\n",
       "      <td>2024-02-12</td>\n",
       "      <td>33.56</td>\n",
       "      <td>34.53</td>\n",
       "      <td>173.07</td>\n",
       "      <td>187.150</td>\n",
       "      <td>112.53</td>\n",
       "    </tr>\n",
       "    <tr>\n",
       "      <th>1866</th>\n",
       "      <td>2024-02-13</td>\n",
       "      <td>32.04</td>\n",
       "      <td>34.06</td>\n",
       "      <td>173.29</td>\n",
       "      <td>185.040</td>\n",
       "      <td>111.34</td>\n",
       "    </tr>\n",
       "    <tr>\n",
       "      <th>1867</th>\n",
       "      <td>2024-02-14</td>\n",
       "      <td>32.12</td>\n",
       "      <td>34.20</td>\n",
       "      <td>174.42</td>\n",
       "      <td>184.150</td>\n",
       "      <td>112.06</td>\n",
       "    </tr>\n",
       "    <tr>\n",
       "      <th>1868</th>\n",
       "      <td>2024-02-15</td>\n",
       "      <td>33.08</td>\n",
       "      <td>35.34</td>\n",
       "      <td>176.59</td>\n",
       "      <td>183.860</td>\n",
       "      <td>113.64</td>\n",
       "    </tr>\n",
       "    <tr>\n",
       "      <th>1869</th>\n",
       "      <td>2024-02-16</td>\n",
       "      <td>33.43</td>\n",
       "      <td>35.31</td>\n",
       "      <td>177.49</td>\n",
       "      <td>182.310</td>\n",
       "      <td>114.01</td>\n",
       "    </tr>\n",
       "  </tbody>\n",
       "</table>\n",
       "<p>1870 rows × 6 columns</p>\n",
       "</div>"
      ],
      "text/plain": [
       "          Dates  NEM US Equity  HAL US Equity  ABBV US Equity  AAPL US Equity  \\\n",
       "0    2016-09-13          39.02          41.11           63.34          26.988   \n",
       "1    2016-09-14          38.60          41.26           63.34          27.943   \n",
       "2    2016-09-15          39.20          41.77           63.35          28.893   \n",
       "3    2016-09-16          38.26          41.04           63.27          28.730   \n",
       "4    2016-09-19          38.43          41.28           62.91          28.395   \n",
       "...         ...            ...            ...             ...             ...   \n",
       "1865 2024-02-12          33.56          34.53          173.07         187.150   \n",
       "1866 2024-02-13          32.04          34.06          173.29         185.040   \n",
       "1867 2024-02-14          32.12          34.20          174.42         184.150   \n",
       "1868 2024-02-15          33.08          35.34          176.59         183.860   \n",
       "1869 2024-02-16          33.43          35.31          177.49         182.310   \n",
       "\n",
       "      ABT US Equity  \n",
       "0             40.64  \n",
       "1             40.81  \n",
       "2             41.12  \n",
       "3             41.87  \n",
       "4             41.68  \n",
       "...             ...  \n",
       "1865         112.53  \n",
       "1866         111.34  \n",
       "1867         112.06  \n",
       "1868         113.64  \n",
       "1869         114.01  \n",
       "\n",
       "[1870 rows x 6 columns]"
      ]
     },
     "execution_count": 11,
     "metadata": {},
     "output_type": "execute_result"
    }
   ],
   "source": [
    "df"
   ]
  },
  {
   "cell_type": "code",
   "execution_count": 12,
   "id": "70fb1f15",
   "metadata": {},
   "outputs": [
    {
     "data": {
      "text/plain": [
       "['Dates',\n",
       " 'NEM US Equity',\n",
       " 'HAL US Equity',\n",
       " 'ABBV US Equity',\n",
       " 'AAPL US Equity',\n",
       " 'ABT US Equity']"
      ]
     },
     "execution_count": 12,
     "metadata": {},
     "output_type": "execute_result"
    }
   ],
   "source": [
    "list(df.columns)"
   ]
  },
  {
   "cell_type": "code",
   "execution_count": null,
   "id": "cf589c46",
   "metadata": {},
   "outputs": [],
   "source": [
    "df_esg = pd.read_excel('10_stocks_prices.xlsx', sheet_name = 'ESG_Ranks_most_recent', nrows=1)"
   ]
  },
  {
   "cell_type": "code",
   "execution_count": null,
   "id": "bbfca863",
   "metadata": {},
   "outputs": [],
   "source": [
    "df_esg"
   ]
  },
  {
   "cell_type": "code",
   "execution_count": null,
   "id": "6d48da65",
   "metadata": {},
   "outputs": [],
   "source": [
    "df_esg = df_esg[list(df.columns)[1:]]"
   ]
  },
  {
   "cell_type": "code",
   "execution_count": null,
   "id": "9ee70994",
   "metadata": {},
   "outputs": [],
   "source": [
    "df_esg"
   ]
  },
  {
   "cell_type": "markdown",
   "id": "10311cce",
   "metadata": {},
   "source": [
    "### Write the data"
   ]
  },
  {
   "cell_type": "code",
   "execution_count": null,
   "id": "3d35c6c6",
   "metadata": {},
   "outputs": [],
   "source": [
    "df.to_excel('asset_returns.xlsx')\n",
    "df_esg.to_excel('asset_esg_returns.xlsx')"
   ]
  },
  {
   "cell_type": "code",
   "execution_count": null,
   "id": "603d43a8",
   "metadata": {},
   "outputs": [],
   "source": []
  }
 ],
 "metadata": {
  "kernelspec": {
   "display_name": "Python 3 (ipykernel)",
   "language": "python",
   "name": "python3"
  },
  "language_info": {
   "codemirror_mode": {
    "name": "ipython",
    "version": 3
   },
   "file_extension": ".py",
   "mimetype": "text/x-python",
   "name": "python",
   "nbconvert_exporter": "python",
   "pygments_lexer": "ipython3",
   "version": "3.11.4"
  }
 },
 "nbformat": 4,
 "nbformat_minor": 5
}
